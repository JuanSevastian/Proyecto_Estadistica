{
 "cells": [
  {
   "cell_type": "markdown",
   "metadata": {},
   "source": [
    "# Análisis de Tareas"
   ]
  },
  {
   "cell_type": "code",
   "execution_count": 1,
   "metadata": {},
   "outputs": [],
   "source": [
    "import pandas as pd\n",
    "import numpy as np\n",
    "import os\n",
    "import matplotlib as plt\n",
    "import janitor as jn "
   ]
  },
  {
   "cell_type": "code",
   "execution_count": 2,
   "metadata": {},
   "outputs": [
    {
     "data": {
      "text/html": [
       "<div>\n",
       "<style scoped>\n",
       "    .dataframe tbody tr th:only-of-type {\n",
       "        vertical-align: middle;\n",
       "    }\n",
       "\n",
       "    .dataframe tbody tr th {\n",
       "        vertical-align: top;\n",
       "    }\n",
       "\n",
       "    .dataframe thead th {\n",
       "        text-align: right;\n",
       "    }\n",
       "</style>\n",
       "<table border=\"1\" class=\"dataframe\">\n",
       "  <thead>\n",
       "    <tr style=\"text-align: right;\">\n",
       "      <th></th>\n",
       "      <th>cliente</th>\n",
       "      <th>mora30</th>\n",
       "      <th>mora60</th>\n",
       "      <th>segmento</th>\n",
       "      <th>sector</th>\n",
       "      <th>regcons</th>\n",
       "      <th>fdesem</th>\n",
       "      <th>ingresos</th>\n",
       "      <th>personascargo</th>\n",
       "      <th>gastos</th>\n",
       "      <th>...</th>\n",
       "      <th>nivel_academico</th>\n",
       "      <th>tipo_vivienda</th>\n",
       "      <th>calificacion_superfinanciera</th>\n",
       "      <th>calificacionsistema_financiero</th>\n",
       "      <th>moramaxima_12_meses</th>\n",
       "      <th>%deuda_actual_sistema_financiero</th>\n",
       "      <th>moramaxima_12_meses_1</th>\n",
       "      <th>experiencia_financiera</th>\n",
       "      <th>antiguedad_en_el_sistema_financiero</th>\n",
       "      <th>numero_de_creditos_vigentes</th>\n",
       "    </tr>\n",
       "  </thead>\n",
       "  <tbody>\n",
       "    <tr>\n",
       "      <th>0</th>\n",
       "      <td>1</td>\n",
       "      <td>0</td>\n",
       "      <td>0</td>\n",
       "      <td>PY</td>\n",
       "      <td>SERVICIOS</td>\n",
       "      <td>ESPECIAL</td>\n",
       "      <td>2013-11-20</td>\n",
       "      <td>0.000000</td>\n",
       "      <td>0</td>\n",
       "      <td>0.300</td>\n",
       "      <td>...</td>\n",
       "      <td>UNIVERSITARIO</td>\n",
       "      <td>FAMILIAR</td>\n",
       "      <td>A</td>\n",
       "      <td>NaN</td>\n",
       "      <td>0</td>\n",
       "      <td>0.636742</td>\n",
       "      <td>0</td>\n",
       "      <td>0</td>\n",
       "      <td>4</td>\n",
       "      <td>0</td>\n",
       "    </tr>\n",
       "    <tr>\n",
       "      <th>1</th>\n",
       "      <td>2</td>\n",
       "      <td>1</td>\n",
       "      <td>1</td>\n",
       "      <td>MPY</td>\n",
       "      <td>AGROPECUARIO</td>\n",
       "      <td>OCCIDENTE</td>\n",
       "      <td>2015-12-16</td>\n",
       "      <td>1.500000</td>\n",
       "      <td>3</td>\n",
       "      <td>0.300</td>\n",
       "      <td>...</td>\n",
       "      <td>BACHILLER</td>\n",
       "      <td>FAMILIAR</td>\n",
       "      <td>A</td>\n",
       "      <td>666</td>\n",
       "      <td>61</td>\n",
       "      <td>0.934640</td>\n",
       "      <td>61</td>\n",
       "      <td>1</td>\n",
       "      <td>10</td>\n",
       "      <td>0</td>\n",
       "    </tr>\n",
       "    <tr>\n",
       "      <th>2</th>\n",
       "      <td>3</td>\n",
       "      <td>0</td>\n",
       "      <td>0</td>\n",
       "      <td>PY</td>\n",
       "      <td>PERSONAS NATURALES</td>\n",
       "      <td>OCCIDENTE</td>\n",
       "      <td>2013-05-08</td>\n",
       "      <td>2.058269</td>\n",
       "      <td>0</td>\n",
       "      <td>0.308</td>\n",
       "      <td>...</td>\n",
       "      <td>TECNÓLOGO</td>\n",
       "      <td>FAMILIAR</td>\n",
       "      <td>A</td>\n",
       "      <td>NaN</td>\n",
       "      <td>0</td>\n",
       "      <td>0.117259</td>\n",
       "      <td>0</td>\n",
       "      <td>0</td>\n",
       "      <td>9</td>\n",
       "      <td>0</td>\n",
       "    </tr>\n",
       "    <tr>\n",
       "      <th>3</th>\n",
       "      <td>4</td>\n",
       "      <td>0</td>\n",
       "      <td>0</td>\n",
       "      <td>MPY</td>\n",
       "      <td>AGROPECUARIO</td>\n",
       "      <td>CENTRO</td>\n",
       "      <td>2015-11-11</td>\n",
       "      <td>3.500000</td>\n",
       "      <td>1</td>\n",
       "      <td>0.308</td>\n",
       "      <td>...</td>\n",
       "      <td>BACHILLER</td>\n",
       "      <td>FAMILIAR</td>\n",
       "      <td>A</td>\n",
       "      <td>658</td>\n",
       "      <td>29</td>\n",
       "      <td>1.000000</td>\n",
       "      <td>29</td>\n",
       "      <td>1</td>\n",
       "      <td>8</td>\n",
       "      <td>0</td>\n",
       "    </tr>\n",
       "    <tr>\n",
       "      <th>4</th>\n",
       "      <td>5</td>\n",
       "      <td>0</td>\n",
       "      <td>0</td>\n",
       "      <td>MPY</td>\n",
       "      <td>AGROPECUARIO</td>\n",
       "      <td>SUR</td>\n",
       "      <td>2013-12-13</td>\n",
       "      <td>3.655000</td>\n",
       "      <td>0</td>\n",
       "      <td>0.308</td>\n",
       "      <td>...</td>\n",
       "      <td>UNIVERSITARIO</td>\n",
       "      <td>FAMILIAR</td>\n",
       "      <td>A</td>\n",
       "      <td>765</td>\n",
       "      <td>17</td>\n",
       "      <td>0.354826</td>\n",
       "      <td>17</td>\n",
       "      <td>0</td>\n",
       "      <td>12</td>\n",
       "      <td>0</td>\n",
       "    </tr>\n",
       "  </tbody>\n",
       "</table>\n",
       "<p>5 rows × 27 columns</p>\n",
       "</div>"
      ],
      "text/plain": [
       "   cliente  mora30  mora60 segmento              sector    regcons     fdesem  \\\n",
       "0        1       0       0       PY           SERVICIOS   ESPECIAL 2013-11-20   \n",
       "1        2       1       1      MPY        AGROPECUARIO  OCCIDENTE 2015-12-16   \n",
       "2        3       0       0       PY  PERSONAS NATURALES  OCCIDENTE 2013-05-08   \n",
       "3        4       0       0      MPY        AGROPECUARIO     CENTRO 2015-11-11   \n",
       "4        5       0       0      MPY        AGROPECUARIO        SUR 2013-12-13   \n",
       "\n",
       "   ingresos  personascargo  gastos  ...  nivel_academico tipo_vivienda  \\\n",
       "0  0.000000              0   0.300  ...    UNIVERSITARIO      FAMILIAR   \n",
       "1  1.500000              3   0.300  ...        BACHILLER      FAMILIAR   \n",
       "2  2.058269              0   0.308  ...        TECNÓLOGO      FAMILIAR   \n",
       "3  3.500000              1   0.308  ...        BACHILLER      FAMILIAR   \n",
       "4  3.655000              0   0.308  ...    UNIVERSITARIO      FAMILIAR   \n",
       "\n",
       "  calificacion_superfinanciera  calificacionsistema_financiero  \\\n",
       "0                            A                             NaN   \n",
       "1                            A                             666   \n",
       "2                            A                             NaN   \n",
       "3                            A                             658   \n",
       "4                            A                             765   \n",
       "\n",
       "  moramaxima_12_meses %deuda_actual_sistema_financiero  moramaxima_12_meses_1  \\\n",
       "0                   0                         0.636742                      0   \n",
       "1                  61                         0.934640                     61   \n",
       "2                   0                         0.117259                      0   \n",
       "3                  29                         1.000000                     29   \n",
       "4                  17                         0.354826                     17   \n",
       "\n",
       "  experiencia_financiera antiguedad_en_el_sistema_financiero  \\\n",
       "0                      0                                   4   \n",
       "1                      1                                  10   \n",
       "2                      0                                   9   \n",
       "3                      1                                   8   \n",
       "4                      0                                  12   \n",
       "\n",
       "  numero_de_creditos_vigentes  \n",
       "0                           0  \n",
       "1                           0  \n",
       "2                           0  \n",
       "3                           0  \n",
       "4                           0  \n",
       "\n",
       "[5 rows x 27 columns]"
      ]
     },
     "execution_count": 2,
     "metadata": {},
     "output_type": "execute_result"
    }
   ],
   "source": [
    "df = pd.read_excel('base_datos.xlsx').clean_names()\n",
    "df.head()"
   ]
  },
  {
   "cell_type": "code",
   "execution_count": 3,
   "metadata": {},
   "outputs": [],
   "source": [
    "from pandas_profiling import ProfileReport"
   ]
  },
  {
   "cell_type": "code",
   "execution_count": 4,
   "metadata": {},
   "outputs": [
    {
     "data": {
      "application/vnd.jupyter.widget-view+json": {
       "model_id": "3342551077cb44779f714956347daedd",
       "version_major": 2,
       "version_minor": 0
      },
      "text/plain": [
       "HBox(children=(FloatProgress(value=0.0, description='variables', max=27.0, style=ProgressStyle(description_wid…"
      ]
     },
     "metadata": {},
     "output_type": "display_data"
    },
    {
     "name": "stdout",
     "output_type": "stream",
     "text": [
      "\n"
     ]
    },
    {
     "data": {
      "application/vnd.jupyter.widget-view+json": {
       "model_id": "7ec1cab42a2e43d7a3c3a6ffdb80f38d",
       "version_major": 2,
       "version_minor": 0
      },
      "text/plain": [
       "HBox(children=(FloatProgress(value=0.0, description='correlations', max=6.0, style=ProgressStyle(description_w…"
      ]
     },
     "metadata": {},
     "output_type": "display_data"
    },
    {
     "name": "stdout",
     "output_type": "stream",
     "text": [
      "\n"
     ]
    },
    {
     "data": {
      "application/vnd.jupyter.widget-view+json": {
       "model_id": "62f0ff5061284723a4ea273257606e90",
       "version_major": 2,
       "version_minor": 0
      },
      "text/plain": [
       "HBox(children=(FloatProgress(value=0.0, description='interactions [continuous]', max=144.0, style=ProgressStyl…"
      ]
     },
     "metadata": {},
     "output_type": "display_data"
    },
    {
     "name": "stdout",
     "output_type": "stream",
     "text": [
      "\n"
     ]
    },
    {
     "data": {
      "application/vnd.jupyter.widget-view+json": {
       "model_id": "03574af5240a414ba02128c4b295d766",
       "version_major": 2,
       "version_minor": 0
      },
      "text/plain": [
       "HBox(children=(FloatProgress(value=0.0, description='table', max=1.0, style=ProgressStyle(description_width='i…"
      ]
     },
     "metadata": {},
     "output_type": "display_data"
    },
    {
     "name": "stdout",
     "output_type": "stream",
     "text": [
      "\n"
     ]
    },
    {
     "data": {
      "application/vnd.jupyter.widget-view+json": {
       "model_id": "3a78c03a6bc54f088c713b5d2f4f3c5e",
       "version_major": 2,
       "version_minor": 0
      },
      "text/plain": [
       "HBox(children=(FloatProgress(value=0.0, description='missing', max=4.0, style=ProgressStyle(description_width=…"
      ]
     },
     "metadata": {},
     "output_type": "display_data"
    },
    {
     "name": "stdout",
     "output_type": "stream",
     "text": [
      "\n"
     ]
    },
    {
     "data": {
      "application/vnd.jupyter.widget-view+json": {
       "model_id": "ec78cb27cb49424681a2c1dbe908c30c",
       "version_major": 2,
       "version_minor": 0
      },
      "text/plain": [
       "HBox(children=(FloatProgress(value=0.0, description='warnings', max=3.0, style=ProgressStyle(description_width…"
      ]
     },
     "metadata": {},
     "output_type": "display_data"
    },
    {
     "name": "stdout",
     "output_type": "stream",
     "text": [
      "\n"
     ]
    },
    {
     "data": {
      "application/vnd.jupyter.widget-view+json": {
       "model_id": "684136e3d9c44134be404e5f89de751d",
       "version_major": 2,
       "version_minor": 0
      },
      "text/plain": [
       "HBox(children=(FloatProgress(value=0.0, description='package', max=1.0, style=ProgressStyle(description_width=…"
      ]
     },
     "metadata": {},
     "output_type": "display_data"
    },
    {
     "name": "stdout",
     "output_type": "stream",
     "text": [
      "\n"
     ]
    },
    {
     "data": {
      "application/vnd.jupyter.widget-view+json": {
       "model_id": "d795939310274a74aeaffbe72d995798",
       "version_major": 2,
       "version_minor": 0
      },
      "text/plain": [
       "HBox(children=(FloatProgress(value=0.0, description='build report structure', max=1.0, style=ProgressStyle(des…"
      ]
     },
     "metadata": {},
     "output_type": "display_data"
    },
    {
     "name": "stdout",
     "output_type": "stream",
     "text": [
      "\n"
     ]
    }
   ],
   "source": [
    "prof_report = ProfileReport(df)"
   ]
  },
  {
   "cell_type": "code",
   "execution_count": 5,
   "metadata": {},
   "outputs": [],
   "source": [
    "prof_report.to_file(output_file='descriptive_view_rodamiento.html')"
   ]
  }
 ],
 "metadata": {
  "kernelspec": {
   "display_name": "Python 3",
   "language": "python",
   "name": "python3"
  },
  "language_info": {
   "codemirror_mode": {
    "name": "ipython",
    "version": 3
   },
   "file_extension": ".py",
   "mimetype": "text/x-python",
   "name": "python",
   "nbconvert_exporter": "python",
   "pygments_lexer": "ipython3",
   "version": "3.7.1"
  }
 },
 "nbformat": 4,
 "nbformat_minor": 4
}
